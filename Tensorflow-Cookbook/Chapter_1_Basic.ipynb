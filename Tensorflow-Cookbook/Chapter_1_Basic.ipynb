{
 "cells": [
  {
   "cell_type": "markdown",
   "metadata": {},
   "source": [
    "# Tensor"
   ]
  },
  {
   "cell_type": "code",
   "execution_count": 2,
   "metadata": {},
   "outputs": [],
   "source": [
    "import tensorflow as tf"
   ]
  },
  {
   "cell_type": "code",
   "execution_count": 3,
   "metadata": {},
   "outputs": [],
   "source": [
    "row_dim = 5\n",
    "col_dim = 7"
   ]
  },
  {
   "cell_type": "code",
   "execution_count": 7,
   "metadata": {},
   "outputs": [
    {
     "name": "stdout",
     "output_type": "stream",
     "text": [
      "Tensor(\"zeros_3:0\", shape=(5, 7), dtype=float32)\n",
      "Tensor(\"ones_3:0\", shape=(5, 7), dtype=float32)\n",
      "Tensor(\"Fill_3:0\", shape=(5, 7), dtype=int32)\n"
     ]
    }
   ],
   "source": [
    "zero_tensor = tf.zeros([row_dim, col_dim])\n",
    "print(zero_tensor)\n",
    "one_tensor = tf.ones([row_dim, col_dim])\n",
    "print(one_tensor)\n",
    "filled_tensor = tf.fill([row_dim, col_dim], 10)\n",
    "print(filled_tensor)"
   ]
  },
  {
   "cell_type": "code",
   "execution_count": null,
   "metadata": {},
   "outputs": [],
   "source": []
  }
 ],
 "metadata": {
  "kernelspec": {
   "display_name": "Python 3",
   "language": "python",
   "name": "python3"
  },
  "language_info": {
   "codemirror_mode": {
    "name": "ipython",
    "version": 3
   },
   "file_extension": ".py",
   "mimetype": "text/x-python",
   "name": "python",
   "nbconvert_exporter": "python",
   "pygments_lexer": "ipython3",
   "version": "3.6.4"
  }
 },
 "nbformat": 4,
 "nbformat_minor": 2
}
